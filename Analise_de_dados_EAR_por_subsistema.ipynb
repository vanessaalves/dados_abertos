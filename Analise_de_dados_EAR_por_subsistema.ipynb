{
 "cells": [
  {
   "cell_type": "markdown",
   "id": "cb7ef1a9",
   "metadata": {},
   "source": [
    "# Tutorial de uso dos dados abertos ONS"
   ]
  },
  {
   "cell_type": "markdown",
   "id": "e5b94121",
   "metadata": {},
   "source": [
    "Nesse exemplo, utilizaremos o dataset ear-diario-por-subsistema dos anos 2000 a 2021. "
   ]
  },
  {
   "cell_type": "code",
   "execution_count": 1,
   "id": "009f3516",
   "metadata": {},
   "outputs": [],
   "source": [
    "#Importar das bibliotecas que serão utilizadas\n",
    "import pandas as pd\n",
    "import numpy as np\n",
    "import requests\n",
    "import matplotlib.pyplot as plt\n",
    "from datetime import datetime, timedelta\n",
    "import matplotlib.ticker as mtick\n",
    "import json"
   ]
  },
  {
   "cell_type": "markdown",
   "id": "c44e19eb",
   "metadata": {},
   "source": [
    "# Extração e tratamento dos dados"
   ]
  },
  {
   "cell_type": "markdown",
   "id": "5af4b93b",
   "metadata": {},
   "source": [
    "<b>1) Extração das urls dos datasets que contém os csvs</b>"
   ]
  },
  {
   "cell_type": "code",
   "execution_count": 2,
   "id": "5fd7bbf0",
   "metadata": {},
   "outputs": [],
   "source": [
    "#Request com a url do dataset utilizado na análise.\n",
    "#Substituir pela url desejada\n",
    "r = requests.get('https://dados.ons.org.br/api/3/action/package_search?&rows=1000')"
   ]
  },
  {
   "cell_type": "code",
   "execution_count": 3,
   "id": "f9a39a9a",
   "metadata": {},
   "outputs": [
    {
     "name": "stdout",
     "output_type": "stream",
     "text": [
      "{\"help\": \"https://dados.ons.org.br/api/3/action/help_show?name=package_search\", \"success\": true, \"result\": {\"count\": 20, \"facets\": {}, \"results\": [{\"author\": \"ONS\", \"author_email\": \"\", \"creator_user_id\": \"8be381ee-d0ee-426f-ae84-84bacacbd8c5\", \"id\": \"2d7c8e4f-6a30-4fc1-8f09-d6de70bb8919\", \"isopen\": true, \"license_id\": \"cc-by\", \"license_title\": \"Creative Commons Atribui\\u00e7\\u00e3o\", \"license_url\": \"http://www.opendefinition.org/licenses/cc-by\", \"maintainer\": \"ONS\", \"maintainer_email\": \"\", \"meta\n"
     ]
    }
   ],
   "source": [
    "#Print para ver o retorno do request\n",
    "print(r.text[0:500])"
   ]
  },
  {
   "cell_type": "code",
   "execution_count": 4,
   "id": "5b954209",
   "metadata": {},
   "outputs": [],
   "source": [
    "#Transformar o request em formato json\n",
    "json_api = json.loads(r.text)"
   ]
  },
  {
   "cell_type": "code",
   "execution_count": 5,
   "id": "ad5e8e90",
   "metadata": {},
   "outputs": [],
   "source": [
    "#Convertendo o formato json em dataframe para facilitar a busca\n",
    "df_resources = pd.json_normalize(json_api['result']['results'],'resources')"
   ]
  },
  {
   "cell_type": "code",
   "execution_count": 6,
   "id": "cf6fcb48",
   "metadata": {},
   "outputs": [
    {
     "data": {
      "text/plain": [
       "123    EAR_Diario_por_Reservatorio-2021\n",
       "124    EAR_Diario_por_Reservatorio-2020\n",
       "125    EAR_Diario_por_Reservatorio-2019\n",
       "126    EAR_Diario_por_Reservatorio-2018\n",
       "127    EAR_Diario_por_Reservatorio-2017\n",
       "                     ...               \n",
       "246      EAR_Diario_por_Subsistema-2004\n",
       "247      EAR_Diario_por_Subsistema-2003\n",
       "248      EAR_Diario_por_Subsistema-2002\n",
       "249      EAR_Diario_por_Subsistema-2001\n",
       "250      EAR_Diario_por_Subsistema-2000\n",
       "Name: name, Length: 72, dtype: object"
      ]
     },
     "execution_count": 6,
     "metadata": {},
     "output_type": "execute_result"
    }
   ],
   "source": [
    "#Verificando o dataset desejado\n",
    "df_resources['name'][df_resources['name'].str.contains(\"EAR\")]"
   ]
  },
  {
   "cell_type": "code",
   "execution_count": 7,
   "id": "9fde3f03",
   "metadata": {},
   "outputs": [],
   "source": [
    "#Filtrando apenas o dataset referente a EAR por subsistema\n",
    "df_EAR_Subsistema = df_resources[df_resources['name'].str.contains(\"EAR_Diario_por_Subsistema\")]"
   ]
  },
  {
   "cell_type": "code",
   "execution_count": 8,
   "id": "e8815e01",
   "metadata": {},
   "outputs": [
    {
     "data": {
      "text/plain": [
       "array(['CSV'], dtype=object)"
      ]
     },
     "execution_count": 8,
     "metadata": {},
     "output_type": "execute_result"
    }
   ],
   "source": [
    "#Confirmando se só temos o formato CSV\n",
    "df_EAR_Subsistema.format.unique()"
   ]
  },
  {
   "cell_type": "code",
   "execution_count": 9,
   "id": "fa69dc39",
   "metadata": {},
   "outputs": [
    {
     "data": {
      "text/plain": [
       "['https://ons-dl-prod-opendata.s3.amazonaws.com/dataset/ear_subsistema_di/EAR_DIARIO_SUBSISTEMA_2021.csv',\n",
       " 'https://ons-dl-prod-opendata.s3.amazonaws.com/dataset/ear_subsistema_di/EAR_DIARIO_SUBSISTEMA_2020.csv',\n",
       " 'https://ons-dl-prod-opendata.s3.amazonaws.com/dataset/ear_subsistema_di/EAR_DIARIO_SUBSISTEMA_2019.csv',\n",
       " 'https://ons-dl-prod-opendata.s3.amazonaws.com/dataset/ear_subsistema_di/EAR_DIARIO_SUBSISTEMA_2018.csv',\n",
       " 'https://ons-dl-prod-opendata.s3.amazonaws.com/dataset/ear_subsistema_di/EAR_DIARIO_SUBSISTEMA_2017.csv',\n",
       " 'https://ons-dl-prod-opendata.s3.amazonaws.com/dataset/ear_subsistema_di/EAR_DIARIO_SUBSISTEMA_2016.csv',\n",
       " 'https://ons-dl-prod-opendata.s3.amazonaws.com/dataset/ear_subsistema_di/EAR_DIARIO_SUBSISTEMA_2015.csv',\n",
       " 'https://ons-dl-prod-opendata.s3.amazonaws.com/dataset/ear_subsistema_di/EAR_DIARIO_SUBSISTEMA_2014.csv',\n",
       " 'https://ons-dl-prod-opendata.s3.amazonaws.com/dataset/ear_subsistema_di/EAR_DIARIO_SUBSISTEMA_2013.csv',\n",
       " 'https://ons-dl-prod-opendata.s3.amazonaws.com/dataset/ear_subsistema_di/EAR_DIARIO_SUBSISTEMA_2012.csv',\n",
       " 'https://ons-dl-prod-opendata.s3.amazonaws.com/dataset/ear_subsistema_di/EAR_DIARIO_SUBSISTEMA_2011.csv',\n",
       " 'https://ons-dl-prod-opendata.s3.amazonaws.com/dataset/ear_subsistema_di/EAR_DIARIO_SUBSISTEMA_2010.csv',\n",
       " 'https://ons-dl-prod-opendata.s3.amazonaws.com/dataset/ear_subsistema_di/EAR_DIARIO_SUBSISTEMA_2009.csv',\n",
       " 'https://ons-dl-prod-opendata.s3.amazonaws.com/dataset/ear_subsistema_di/EAR_DIARIO_SUBSISTEMA_2008.csv',\n",
       " 'https://ons-dl-prod-opendata.s3.amazonaws.com/dataset/ear_subsistema_di/EAR_DIARIO_SUBSISTEMA_2007.csv',\n",
       " 'https://ons-dl-prod-opendata.s3.amazonaws.com/dataset/ear_subsistema_di/EAR_DIARIO_SUBSISTEMA_2006.csv',\n",
       " 'https://ons-dl-prod-opendata.s3.amazonaws.com/dataset/ear_subsistema_di/EAR_DIARIO_SUBSISTEMA_2005.csv',\n",
       " 'https://ons-dl-prod-opendata.s3.amazonaws.com/dataset/ear_subsistema_di/EAR_DIARIO_SUBSISTEMA_2004.csv',\n",
       " 'https://ons-dl-prod-opendata.s3.amazonaws.com/dataset/ear_subsistema_di/EAR_DIARIO_SUBSISTEMA_2003.csv',\n",
       " 'https://ons-dl-prod-opendata.s3.amazonaws.com/dataset/ear_subsistema_di/EAR_DIARIO_SUBSISTEMA_2002.csv',\n",
       " 'https://ons-dl-prod-opendata.s3.amazonaws.com/dataset/ear_subsistema_di/EAR_DIARIO_SUBSISTEMA_2001.csv',\n",
       " 'https://ons-dl-prod-opendata.s3.amazonaws.com/dataset/ear_subsistema_di/EAR_DIARIO_SUBSISTEMA_2000.csv']"
      ]
     },
     "execution_count": 9,
     "metadata": {},
     "output_type": "execute_result"
    }
   ],
   "source": [
    "#Convertendo em uma lista as urls de acesso aos csvs\n",
    "urls = df_EAR_Subsistema['url'].tolist()\n",
    "urls"
   ]
  },
  {
   "cell_type": "markdown",
   "id": "47c3f45e",
   "metadata": {},
   "source": [
    "<b>2) Conversão dos csvs em dataframe</b>"
   ]
  },
  {
   "cell_type": "code",
   "execution_count": 10,
   "id": "a655250d",
   "metadata": {
    "scrolled": true
   },
   "outputs": [],
   "source": [
    "#Loop que concatena as informações do csvs em dataframe. Indicando \";\" como separador das colunas e \".\" para casas decimais\n",
    "df = pd.concat([pd.read_csv(url, sep = ';', decimal = '.') for url in urls])"
   ]
  },
  {
   "cell_type": "code",
   "execution_count": 11,
   "id": "76addc0b",
   "metadata": {},
   "outputs": [
    {
     "data": {
      "text/html": [
       "<div>\n",
       "<style scoped>\n",
       "    .dataframe tbody tr th:only-of-type {\n",
       "        vertical-align: middle;\n",
       "    }\n",
       "\n",
       "    .dataframe tbody tr th {\n",
       "        vertical-align: top;\n",
       "    }\n",
       "\n",
       "    .dataframe thead th {\n",
       "        text-align: right;\n",
       "    }\n",
       "</style>\n",
       "<table border=\"1\" class=\"dataframe\">\n",
       "  <thead>\n",
       "    <tr style=\"text-align: right;\">\n",
       "      <th></th>\n",
       "      <th>id_subsistema</th>\n",
       "      <th>nom_subsistema</th>\n",
       "      <th>ear_data</th>\n",
       "      <th>ear_max_subsistema</th>\n",
       "      <th>ear_verif_subsistema_mwmes</th>\n",
       "      <th>ear_verif_subsistema_percentual</th>\n",
       "    </tr>\n",
       "  </thead>\n",
       "  <tbody>\n",
       "    <tr>\n",
       "      <th>0</th>\n",
       "      <td>NE</td>\n",
       "      <td>NORDESTE</td>\n",
       "      <td>2021-01-01</td>\n",
       "      <td>51602.070312</td>\n",
       "      <td>23875.224609</td>\n",
       "      <td>46.268002</td>\n",
       "    </tr>\n",
       "    <tr>\n",
       "      <th>1</th>\n",
       "      <td>N</td>\n",
       "      <td>NORTE</td>\n",
       "      <td>2021-01-01</td>\n",
       "      <td>15164.886719</td>\n",
       "      <td>4328.353027</td>\n",
       "      <td>28.541901</td>\n",
       "    </tr>\n",
       "    <tr>\n",
       "      <th>2</th>\n",
       "      <td>SE</td>\n",
       "      <td>SUDESTE</td>\n",
       "      <td>2021-01-01</td>\n",
       "      <td>203567.078125</td>\n",
       "      <td>38488.902344</td>\n",
       "      <td>18.907200</td>\n",
       "    </tr>\n",
       "    <tr>\n",
       "      <th>3</th>\n",
       "      <td>S</td>\n",
       "      <td>SUL</td>\n",
       "      <td>2021-01-01</td>\n",
       "      <td>19897.046875</td>\n",
       "      <td>5621.530762</td>\n",
       "      <td>28.253099</td>\n",
       "    </tr>\n",
       "    <tr>\n",
       "      <th>4</th>\n",
       "      <td>NE</td>\n",
       "      <td>NORDESTE</td>\n",
       "      <td>2021-01-02</td>\n",
       "      <td>51602.070312</td>\n",
       "      <td>23939.832031</td>\n",
       "      <td>46.393200</td>\n",
       "    </tr>\n",
       "  </tbody>\n",
       "</table>\n",
       "</div>"
      ],
      "text/plain": [
       "  id_subsistema nom_subsistema    ear_data  ear_max_subsistema  \\\n",
       "0            NE       NORDESTE  2021-01-01        51602.070312   \n",
       "1             N          NORTE  2021-01-01        15164.886719   \n",
       "2            SE        SUDESTE  2021-01-01       203567.078125   \n",
       "3             S            SUL  2021-01-01        19897.046875   \n",
       "4            NE       NORDESTE  2021-01-02        51602.070312   \n",
       "\n",
       "   ear_verif_subsistema_mwmes  ear_verif_subsistema_percentual  \n",
       "0                23875.224609                        46.268002  \n",
       "1                 4328.353027                        28.541901  \n",
       "2                38488.902344                        18.907200  \n",
       "3                 5621.530762                        28.253099  \n",
       "4                23939.832031                        46.393200  "
      ]
     },
     "execution_count": 11,
     "metadata": {},
     "output_type": "execute_result"
    }
   ],
   "source": [
    "#Print de como ficou o dataframe\n",
    "df.head()"
   ]
  },
  {
   "cell_type": "code",
   "execution_count": 12,
   "id": "cb70a7c9",
   "metadata": {},
   "outputs": [
    {
     "name": "stdout",
     "output_type": "stream",
     "text": [
      "<class 'pandas.core.frame.DataFrame'>\n",
      "Int64Index: 32084 entries, 0 to 1463\n",
      "Data columns (total 6 columns):\n",
      " #   Column                           Non-Null Count  Dtype  \n",
      "---  ------                           --------------  -----  \n",
      " 0   id_subsistema                    32084 non-null  object \n",
      " 1   nom_subsistema                   32084 non-null  object \n",
      " 2   ear_data                         32084 non-null  object \n",
      " 3   ear_max_subsistema               32084 non-null  float64\n",
      " 4   ear_verif_subsistema_mwmes       32084 non-null  float64\n",
      " 5   ear_verif_subsistema_percentual  32084 non-null  float64\n",
      "dtypes: float64(3), object(3)\n",
      "memory usage: 1.7+ MB\n"
     ]
    }
   ],
   "source": [
    "#Print das informações do df\n",
    "df.info()"
   ]
  },
  {
   "cell_type": "code",
   "execution_count": 13,
   "id": "9c1a8112",
   "metadata": {},
   "outputs": [],
   "source": [
    "#Converter ear_data em formato data\n",
    "df['ear_data'] = df['ear_data'].astype('datetime64[ns]')"
   ]
  },
  {
   "cell_type": "code",
   "execution_count": 14,
   "id": "d07e3490",
   "metadata": {},
   "outputs": [
    {
     "name": "stdout",
     "output_type": "stream",
     "text": [
      "<class 'pandas.core.frame.DataFrame'>\n",
      "Int64Index: 32084 entries, 0 to 1463\n",
      "Data columns (total 6 columns):\n",
      " #   Column                           Non-Null Count  Dtype         \n",
      "---  ------                           --------------  -----         \n",
      " 0   id_subsistema                    32084 non-null  object        \n",
      " 1   nom_subsistema                   32084 non-null  object        \n",
      " 2   ear_data                         32084 non-null  datetime64[ns]\n",
      " 3   ear_max_subsistema               32084 non-null  float64       \n",
      " 4   ear_verif_subsistema_mwmes       32084 non-null  float64       \n",
      " 5   ear_verif_subsistema_percentual  32084 non-null  float64       \n",
      "dtypes: datetime64[ns](1), float64(3), object(2)\n",
      "memory usage: 1.7+ MB\n"
     ]
    }
   ],
   "source": [
    "#Info atualizadas\n",
    "df.info()"
   ]
  },
  {
   "cell_type": "code",
   "execution_count": 15,
   "id": "dff59425",
   "metadata": {},
   "outputs": [],
   "source": [
    "#Define 2 casas decimais para os valores do dataset\n",
    "pd.set_option('display.precision',2)"
   ]
  },
  {
   "cell_type": "code",
   "execution_count": 16,
   "id": "00b016f9",
   "metadata": {},
   "outputs": [
    {
     "data": {
      "text/plain": [
       "Timestamp('2000-01-01 00:00:00')"
      ]
     },
     "execution_count": 16,
     "metadata": {},
     "output_type": "execute_result"
    }
   ],
   "source": [
    "#Confirmando a data mínima\n",
    "df['ear_data'].min()"
   ]
  },
  {
   "cell_type": "code",
   "execution_count": 17,
   "id": "37e5f384",
   "metadata": {},
   "outputs": [
    {
     "data": {
      "text/plain": [
       "Timestamp('2021-12-16 00:00:00')"
      ]
     },
     "execution_count": 17,
     "metadata": {},
     "output_type": "execute_result"
    }
   ],
   "source": [
    "#Confirmando a data máxima\n",
    "df['ear_data'].max()"
   ]
  },
  {
   "cell_type": "markdown",
   "id": "d8c4ad7b",
   "metadata": {},
   "source": [
    "# Análise dos dados"
   ]
  },
  {
   "cell_type": "markdown",
   "id": "c854854b",
   "metadata": {},
   "source": [
    "Para essa análise queremos confirmar qual o comportamento da EAR MAX ao longo dos anos em relação aos subsistemas"
   ]
  },
  {
   "cell_type": "code",
   "execution_count": 18,
   "id": "d9c1eae3",
   "metadata": {},
   "outputs": [
    {
     "data": {
      "text/html": [
       "<div>\n",
       "<style scoped>\n",
       "    .dataframe tbody tr th:only-of-type {\n",
       "        vertical-align: middle;\n",
       "    }\n",
       "\n",
       "    .dataframe tbody tr th {\n",
       "        vertical-align: top;\n",
       "    }\n",
       "\n",
       "    .dataframe thead th {\n",
       "        text-align: right;\n",
       "    }\n",
       "</style>\n",
       "<table border=\"1\" class=\"dataframe\">\n",
       "  <thead>\n",
       "    <tr style=\"text-align: right;\">\n",
       "      <th></th>\n",
       "      <th>ear_max_subsistema</th>\n",
       "      <th>ear_verif_subsistema_mwmes</th>\n",
       "      <th>ear_verif_subsistema_percentual</th>\n",
       "    </tr>\n",
       "  </thead>\n",
       "  <tbody>\n",
       "    <tr>\n",
       "      <th>count</th>\n",
       "      <td>32084.00</td>\n",
       "      <td>32084.00</td>\n",
       "      <td>32084.00</td>\n",
       "    </tr>\n",
       "    <tr>\n",
       "      <th>mean</th>\n",
       "      <td>68426.83</td>\n",
       "      <td>35801.03</td>\n",
       "      <td>57.36</td>\n",
       "    </tr>\n",
       "    <tr>\n",
       "      <th>std</th>\n",
       "      <td>72433.71</td>\n",
       "      <td>41480.62</td>\n",
       "      <td>24.13</td>\n",
       "    </tr>\n",
       "    <tr>\n",
       "      <th>min</th>\n",
       "      <td>12311.00</td>\n",
       "      <td>1495.00</td>\n",
       "      <td>4.34</td>\n",
       "    </tr>\n",
       "    <tr>\n",
       "      <th>25%</th>\n",
       "      <td>15164.89</td>\n",
       "      <td>9726.00</td>\n",
       "      <td>37.68</td>\n",
       "    </tr>\n",
       "    <tr>\n",
       "      <th>50%</th>\n",
       "      <td>35033.50</td>\n",
       "      <td>14751.00</td>\n",
       "      <td>57.14</td>\n",
       "    </tr>\n",
       "    <tr>\n",
       "      <th>75%</th>\n",
       "      <td>77813.00</td>\n",
       "      <td>44013.37</td>\n",
       "      <td>78.17</td>\n",
       "    </tr>\n",
       "    <tr>\n",
       "      <th>max</th>\n",
       "      <td>203736.36</td>\n",
       "      <td>179345.00</td>\n",
       "      <td>103.66</td>\n",
       "    </tr>\n",
       "  </tbody>\n",
       "</table>\n",
       "</div>"
      ],
      "text/plain": [
       "       ear_max_subsistema  ear_verif_subsistema_mwmes  \\\n",
       "count            32084.00                    32084.00   \n",
       "mean             68426.83                    35801.03   \n",
       "std              72433.71                    41480.62   \n",
       "min              12311.00                     1495.00   \n",
       "25%              15164.89                     9726.00   \n",
       "50%              35033.50                    14751.00   \n",
       "75%              77813.00                    44013.37   \n",
       "max             203736.36                   179345.00   \n",
       "\n",
       "       ear_verif_subsistema_percentual  \n",
       "count                         32084.00  \n",
       "mean                             57.36  \n",
       "std                              24.13  \n",
       "min                               4.34  \n",
       "25%                              37.68  \n",
       "50%                              57.14  \n",
       "75%                              78.17  \n",
       "max                             103.66  "
      ]
     },
     "execution_count": 18,
     "metadata": {},
     "output_type": "execute_result"
    }
   ],
   "source": [
    "#Descrição dos dados do df\n",
    "df.describe()"
   ]
  },
  {
   "cell_type": "code",
   "execution_count": 19,
   "id": "1a177bd6",
   "metadata": {},
   "outputs": [],
   "source": [
    "#Inclusão coluna ano no df a partir da ear_data\n",
    "df['year'] = df['ear_data'].dt.year"
   ]
  },
  {
   "cell_type": "markdown",
   "id": "9e829c14",
   "metadata": {},
   "source": [
    "<b>1) Verificação de comportamento sobre a média anual da EAR Máx</b>"
   ]
  },
  {
   "cell_type": "code",
   "execution_count": 20,
   "id": "cb699268",
   "metadata": {},
   "outputs": [],
   "source": [
    "#Média ear_max_subsistema agrupada por ano\n",
    "df1 = df.groupby(['year'], as_index=False).agg({\"ear_max_subsistema\":np.mean})"
   ]
  },
  {
   "cell_type": "code",
   "execution_count": 21,
   "id": "96be04f8",
   "metadata": {},
   "outputs": [
    {
     "data": {
      "image/png": "[encoded data removed]",
      "text/plain": [
       "<Figure size 1080x432 with 1 Axes>"
      ]
     },
     "metadata": {
      "needs_background": "light"
     },
     "output_type": "display_data"
    }
   ],
   "source": [
    "#Plotando um gráfico de linhas utilizando matplotlib\n",
    "fig = plt.figure(figsize=(15,6))\n",
    "plt.plot(df1['year'],df1['ear_max_subsistema'], label = 'linear')\n",
    "plt.title('EAR MAX (média) por ano')\n",
    "plt.xticks(np.arange(min(df1['year']), max(df1['year'])+1, 1.0))\n",
    "plt.show()"
   ]
  },
  {
   "cell_type": "markdown",
   "id": "a9b6611f",
   "metadata": {},
   "source": [
    "No gráfico acima, percebemos que houve um aumento da EAR Máx ao longo dos anos. A partir do ano 2015 não tivemos grandes alterações, conforme vimos picos ao longo do gráfico. O que é justificado, nos últimos anos, pela a entrada de reservatórios que não contribuem pro armazenamento equivalente do sistemas."
   ]
  },
  {
   "cell_type": "markdown",
   "id": "fb3911e2",
   "metadata": {},
   "source": [
    "<b>2) Verificação de comportamento sobre o valor máximo da EAR, considerando os meses de outubro</b>"
   ]
  },
  {
   "cell_type": "code",
   "execution_count": 22,
   "id": "0ff56ebe",
   "metadata": {},
   "outputs": [],
   "source": [
    "#Data máxima nos meses de cada ano\n",
    "max_date = df.groupby([(df['year']),(df.ear_data.dt.month)]).apply(lambda s: np.max(s.ear_data)).reset_index().iloc[:,2].to_list()"
   ]
  },
  {
   "cell_type": "code",
   "execution_count": 23,
   "id": "9a03880c",
   "metadata": {},
   "outputs": [
    {
     "data": {
      "text/html": [
       "<div>\n",
       "<style scoped>\n",
       "    .dataframe tbody tr th:only-of-type {\n",
       "        vertical-align: middle;\n",
       "    }\n",
       "\n",
       "    .dataframe tbody tr th {\n",
       "        vertical-align: top;\n",
       "    }\n",
       "\n",
       "    .dataframe thead th {\n",
       "        text-align: right;\n",
       "    }\n",
       "</style>\n",
       "<table border=\"1\" class=\"dataframe\">\n",
       "  <thead>\n",
       "    <tr style=\"text-align: right;\">\n",
       "      <th></th>\n",
       "      <th>id_subsistema</th>\n",
       "      <th>nom_subsistema</th>\n",
       "      <th>ear_data</th>\n",
       "      <th>ear_max_subsistema</th>\n",
       "      <th>ear_verif_subsistema_mwmes</th>\n",
       "      <th>ear_verif_subsistema_percentual</th>\n",
       "      <th>year</th>\n",
       "    </tr>\n",
       "  </thead>\n",
       "  <tbody>\n",
       "    <tr>\n",
       "      <th>1212</th>\n",
       "      <td>NE</td>\n",
       "      <td>NORDESTE</td>\n",
       "      <td>2021-10-31</td>\n",
       "      <td>51602.07</td>\n",
       "      <td>18906.39</td>\n",
       "      <td>36.64</td>\n",
       "      <td>2021</td>\n",
       "    </tr>\n",
       "    <tr>\n",
       "      <th>1213</th>\n",
       "      <td>N</td>\n",
       "      <td>NORTE</td>\n",
       "      <td>2021-10-31</td>\n",
       "      <td>15164.89</td>\n",
       "      <td>7047.47</td>\n",
       "      <td>46.47</td>\n",
       "      <td>2021</td>\n",
       "    </tr>\n",
       "    <tr>\n",
       "      <th>1214</th>\n",
       "      <td>SE</td>\n",
       "      <td>SUDESTE</td>\n",
       "      <td>2021-10-31</td>\n",
       "      <td>203567.08</td>\n",
       "      <td>37065.13</td>\n",
       "      <td>18.21</td>\n",
       "      <td>2021</td>\n",
       "    </tr>\n",
       "    <tr>\n",
       "      <th>1215</th>\n",
       "      <td>S</td>\n",
       "      <td>SUL</td>\n",
       "      <td>2021-10-31</td>\n",
       "      <td>19897.05</td>\n",
       "      <td>10346.39</td>\n",
       "      <td>52.00</td>\n",
       "      <td>2021</td>\n",
       "    </tr>\n",
       "    <tr>\n",
       "      <th>1216</th>\n",
       "      <td>NE</td>\n",
       "      <td>NORDESTE</td>\n",
       "      <td>2020-10-31</td>\n",
       "      <td>51602.07</td>\n",
       "      <td>29012.27</td>\n",
       "      <td>56.22</td>\n",
       "      <td>2020</td>\n",
       "    </tr>\n",
       "  </tbody>\n",
       "</table>\n",
       "</div>"
      ],
      "text/plain": [
       "     id_subsistema nom_subsistema   ear_data  ear_max_subsistema  \\\n",
       "1212            NE       NORDESTE 2021-10-31            51602.07   \n",
       "1213             N          NORTE 2021-10-31            15164.89   \n",
       "1214            SE        SUDESTE 2021-10-31           203567.08   \n",
       "1215             S            SUL 2021-10-31            19897.05   \n",
       "1216            NE       NORDESTE 2020-10-31            51602.07   \n",
       "\n",
       "      ear_verif_subsistema_mwmes  ear_verif_subsistema_percentual  year  \n",
       "1212                    18906.39                            36.64  2021  \n",
       "1213                     7047.47                            46.47  2021  \n",
       "1214                    37065.13                            18.21  2021  \n",
       "1215                    10346.39                            52.00  2021  \n",
       "1216                    29012.27                            56.22  2020  "
      ]
     },
     "execution_count": 23,
     "metadata": {},
     "output_type": "execute_result"
    }
   ],
   "source": [
    "#DF das datas máximas\n",
    "df2 = df[df['ear_data'].isin(max_date)]\n",
    "df2 = df2.loc[df2['ear_data'].dt.month == 10]\n",
    "df2.head()"
   ]
  },
  {
   "cell_type": "code",
   "execution_count": 24,
   "id": "b74d9d2b",
   "metadata": {},
   "outputs": [],
   "source": [
    "#Valor máximo da EAR do último dia do mês\n",
    "df2 = df2.groupby(['year']).agg({\"ear_max_subsistema\":np.max}).reset_index()"
   ]
  },
  {
   "cell_type": "code",
   "execution_count": 25,
   "id": "24b3e84a",
   "metadata": {},
   "outputs": [
    {
     "data": {
      "image/png": "[encoded data removed]",
      "text/plain": [
       "<Figure size 1080x432 with 1 Axes>"
      ]
     },
     "metadata": {
      "needs_background": "light"
     },
     "output_type": "display_data"
    }
   ],
   "source": [
    "#Plotando um gráfico de linhas utilizando matplotlib\n",
    "fig = plt.figure(figsize=(15,6))\n",
    "plt.plot(df2['year'],df2['ear_max_subsistema'], label = 'linear')\n",
    "plt.title('Comparação da EAR MAX dos meses de outubro ao longo dos anos')\n",
    "plt.xticks(np.arange(min(df2['year']), max(df2['year'])+1, 1.0))\n",
    "plt.show()"
   ]
  },
  {
   "cell_type": "markdown",
   "id": "bec0b0dc",
   "metadata": {},
   "source": [
    "Considerando apenas um mês para comparação, vemos que segue a mesma tendência de crescimento. Com uma curva mais abrupta do que se considerarmos a média."
   ]
  },
  {
   "cell_type": "markdown",
   "id": "37b2a5d6",
   "metadata": {},
   "source": [
    "<b>3) Verificação de comportamento sobre a média anual da EAR MWmes</b>"
   ]
  },
  {
   "cell_type": "code",
   "execution_count": 26,
   "id": "e460777b",
   "metadata": {
    "scrolled": false
   },
   "outputs": [],
   "source": [
    "#Média ear_verif_subsistema_mwmes agrupada por ano\n",
    "df3 = df.groupby(['year'], as_index=False).agg({\"ear_verif_subsistema_mwmes\":np.mean})"
   ]
  },
  {
   "cell_type": "code",
   "execution_count": 27,
   "id": "532bd325",
   "metadata": {},
   "outputs": [
    {
     "data": {
      "image/png": "[encoded data removed]",
      "text/plain": [
       "<Figure size 1080x432 with 1 Axes>"
      ]
     },
     "metadata": {
      "needs_background": "light"
     },
     "output_type": "display_data"
    }
   ],
   "source": [
    "#Plotando um gráfico de linhas utilizando matplotlib\n",
    "fig = plt.figure(figsize=(15,6))\n",
    "plt.plot(df3['year'],df3['ear_verif_subsistema_mwmes'], label = 'linear')\n",
    "plt.title('EAR MWMes (média) por ano')\n",
    "plt.xticks(np.arange(min(df3['year']), max(df3['year'])+1, 1.0))\n",
    "plt.show()"
   ]
  },
  {
   "cell_type": "markdown",
   "id": "2ddba5a2",
   "metadata": {},
   "source": [
    "Enquanto a EAR Máx apresenta um comportamento mais estável nos últimos anos, a EAR MWmês trouxe uma queda brusca em 2013. Também justificado porque antes nós guardavamos mais água que atualmente. Por mais que a potência instalada tenha crescido, a capacidade de regularizar tem diminuído."
   ]
  },
  {
   "cell_type": "markdown",
   "id": "4d64789b",
   "metadata": {},
   "source": [
    "<b>4) Verificar qual é o subsistema com maior EAR MAX</b>"
   ]
  },
  {
   "cell_type": "code",
   "execution_count": 28,
   "id": "36072af9",
   "metadata": {},
   "outputs": [],
   "source": [
    "#Média ear_max_subsistema agrupada por nom_subsistema\n",
    "df4 = df.groupby(['nom_subsistema'], as_index=False).agg({\"ear_max_subsistema\":np.mean})"
   ]
  },
  {
   "cell_type": "code",
   "execution_count": 29,
   "id": "95d78eb7",
   "metadata": {},
   "outputs": [
    {
     "data": {
      "text/plain": [
       "<AxesSubplot:title={'center':'EAR MAX (média) por subsistema'}, xlabel='nom_subsistema'>"
      ]
     },
     "execution_count": 29,
     "metadata": {},
     "output_type": "execute_result"
    },
    {
     "data": {
      "image/png": "[encoded data removed]",
      "text/plain": [
       "<Figure size 1080x432 with 1 Axes>"
      ]
     },
     "metadata": {
      "needs_background": "light"
     },
     "output_type": "display_data"
    }
   ],
   "source": [
    "#Plotando um gráfico de barras utilizando matplotlib\n",
    "df4.plot(kind='bar',x='nom_subsistema',y='ear_max_subsistema', title= 'EAR MAX (média) por subsistema',figsize=(15,6) )\n"
   ]
  },
  {
   "cell_type": "markdown",
   "id": "886b993b",
   "metadata": {},
   "source": [
    "Sudeste em um acumulado dos anos é o principal subsistema."
   ]
  },
  {
   "cell_type": "markdown",
   "id": "531ba854",
   "metadata": {},
   "source": [
    "<b>5) Verificar se o subsistema Sudeste é o principal subsistema ao longo dos anos</b>"
   ]
  },
  {
   "cell_type": "code",
   "execution_count": 30,
   "id": "4db7e8e3",
   "metadata": {},
   "outputs": [],
   "source": [
    "#Média ear_max_subsistema agrupada por ano e subsistema\n",
    "df5 = df.groupby(['year','nom_subsistema']).agg({\"ear_max_subsistema\":np.mean})"
   ]
  },
  {
   "cell_type": "code",
   "execution_count": 31,
   "id": "2e31b246",
   "metadata": {},
   "outputs": [
    {
     "data": {
      "image/png": "[encoded data removed]",
      "text/plain": [
       "<Figure size 1080x432 with 1 Axes>"
      ]
     },
     "metadata": {
      "needs_background": "light"
     },
     "output_type": "display_data"
    }
   ],
   "source": [
    "#Plotando um gráfico de barras empilhadas em percentual utilizando matplotlib\n",
    "ax = df.groupby(['year','nom_subsistema']).agg({\"ear_max_subsistema\":np.mean}).groupby(level=0).apply(lambda x: 100 * x / x.sum()).unstack().plot(kind='bar',stacked=True,figsize=(15,6), title='Percentual EAR MAX (média) por ano e subsistema')\n",
    "ax.legend()\n",
    "plt.gca().yaxis.set_major_formatter(mtick.PercentFormatter())\n",
    "plt.show()"
   ]
  },
  {
   "cell_type": "markdown",
   "id": "2028c636",
   "metadata": {},
   "source": [
    "Quando olhamos ao longo dos anos, o Sudeste permanece sendo o maior subsistema"
   ]
  },
  {
   "cell_type": "markdown",
   "id": "7957fcb2",
   "metadata": {},
   "source": [
    "<b>Conclusão da análise de comportamento do EAR:</b><br>\n",
    "A entrada de reservatórios que não contribuem pro armazenamento equivalente dos sistemas tem estabilizado o aumento da média anual de EAR nos últimos anos. E por mais que a potência instalada tenha crescido, a capacidade de regularizar tem diminuído. Como observado no gráfico de média anual do EAR MWMes. \n",
    "Não houve alterações relevantes por subsistema ao longo dos anos, o Sudeste segue sendo o principal subsistema."
   ]
  },
  {
   "cell_type": "code",
   "execution_count": null,
   "id": "18e1f2f7",
   "metadata": {},
   "outputs": [],
   "source": []
  }
 ],
 "metadata": {
  "kernelspec": {
   "display_name": "Python 3",
   "language": "python",
   "name": "python3"
  },
  "language_info": {
   "codemirror_mode": {
    "name": "ipython",
    "version": 3
   },
   "file_extension": ".py",
   "mimetype": "text/x-python",
   "name": "python",
   "nbconvert_exporter": "python",
   "pygments_lexer": "ipython3",
   "version": "3.8.8"
  }
 },
 "nbformat": 4,
 "nbformat_minor": 5
}
